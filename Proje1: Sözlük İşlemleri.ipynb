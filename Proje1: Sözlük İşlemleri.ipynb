{
  "cells": [
    {
      "cell_type": "markdown",
      "metadata": {
        "id": "view-in-github",
        "colab_type": "text"
      },
      "source": [
        "<a href=\"https://colab.research.google.com/github/iremsagun/hu-bby162-2024/blob/main/Proje1%3A%20S%C3%B6zl%C3%BCk%20%C4%B0%C5%9Flemleri.ipynb\" target=\"_parent\"><img src=\"https://colab.research.google.com/assets/colab-badge.svg\" alt=\"Open In Colab\"/></a>"
      ]
    },
    {
      "cell_type": "code",
      "execution_count": 1,
      "metadata": {
        "id": "RgIBwoX6AnmW"
      },
      "outputs": [],
      "source": [
        "#sözlüğün oluşturulması:\n",
        "kisaltmalar = {\"Anadolu Ajansı\": \"AA\" , \"Sıfat\": \"sf.\" , \"Albay\": \"Alb.\" , \"Almanca\": \"Alm.\" , \"Antropoloji\": \"ant.\" , \"Arkeoloji\": \"ark.\" , \"Avukat\" : \"Av.\" , \"Bağlaç\": \"bağ.\" , \"Bakınız\": \"bk.\" , \"Cilt\": \"c\"}"
      ]
    },
    {
      "cell_type": "code",
      "execution_count": null,
      "metadata": {
        "id": "68gQXSUwAo-J"
      },
      "outputs": [],
      "source": [
        "#sözlüğün oluşturulması:\n",
        "print(kisaltmalar)"
      ]
    },
    {
      "cell_type": "code",
      "execution_count": null,
      "metadata": {
        "id": "sFQRh3EgHg_t"
      },
      "outputs": [],
      "source": [
        "#sözlüğe yeni bir anahtar eklenmesi:\n",
        "kisaltmalar = {\"Anadolu Ajansı\": \"AA\" , \"Sıfat\": \"sf.\" , \"Albay\": \"Alb.\" , \"Almanca\": \"Alm.\" , \"Antropoloji\": \"ant.\" , \"Arkeoloji\": \"ark.\" , \"Avukat\" : \"Av.\" , \"Bağlaç\": \"bağ.\" , \"Bakınız\": \"bk.\" , \"Cilt\": \"c\"}\n",
        "kelime = input(\"Ekleyeceğiniz kelimeyi giriniz:\")\n",
        "kisaltmasi = input(\"Eklediğiniz kelimenin kısaltmasını giriniz:\")\n",
        "kisaltmalar[kelime] = kisaltmasi\n",
        "print(kisaltmalar)"
      ]
    },
    {
      "cell_type": "code",
      "execution_count": null,
      "metadata": {
        "id": "3eGqMUiWApJT"
      },
      "outputs": [],
      "source": [
        "\n",
        "#sözlükten anahtar silinmesi:\n",
        "kisaltmalar = {\"Anadolu Ajansı\": \"AA\" , \"Sıfat\": \"sf.\" , \"Albay\": \"Alb.\" , \"Almanca\": \"Alm.\" , \"Antropoloji\": \"ant.\" , \"Arkeoloji\": \"ark.\" , \"Avukat\" : \"Av.\" , \"Bağlaç\": \"bağ.\" , \"Bakınız\": \"bk.\" , \"Cilt\": \"c\"}\n",
        "kelime = input (\"Silmek istediğiniz kelimeyi giriniz:\")\n",
        "del kisaltmalar[kelime]\n",
        "print(kisaltmalar)"
      ]
    },
    {
      "cell_type": "code",
      "execution_count": null,
      "metadata": {
        "id": "PrUllqcGApSc"
      },
      "outputs": [],
      "source": [
        "#sözlükte bir değerin güncellenmesi:\n",
        "kisaltmalar = {\"Anadolu Ajansı\": \"AA\" , \"Sıfat\": \"sf.\" , \"Albay\": \"Alb.\" , \"Almanca\": \"Alm.\" , \"Antropoloji\": \"ant.\" , \"Arkeoloji\": \"ark.\" , \"Avukat\" : \"Av.\" , \"Bağlaç\": \"bağ.\" , \"Bakınız\": \"bk.\" , \"Cilt\": \"c\"}\n",
        "print(kisaltmalar)\n",
        "kelime = input(\"Güncellemek istediğiniz kelimenin anahtarını giriniz: \")\n",
        "kisaltmasi = input(\"Değerini(kısaltmasını) güncellemek istediğiniz kelimeyi giriniz:\")\n",
        "kisaltmalar[kelime] = kisaltmasi\n",
        "print(kisaltmalar)"
      ]
    },
    {
      "cell_type": "code",
      "execution_count": null,
      "metadata": {
        "id": "QSkwYYrBApgO"
      },
      "outputs": [],
      "source": [
        "#sözlükte arama yapılması:\n",
        "kisaltmalar = {\"Anadolu Ajansı\": \"AA\" , \"Sıfat\": \"sf.\" , \"Albay\": \"Alb.\" , \"Almanca\": \"Alm.\" , \"Antropoloji\": \"ant.\" , \"Arkeoloji\": \"ark.\" , \"Avukat\" : \"Av.\" , \"Bağlaç\": \"bağ.\" , \"Bakınız\": \"bk.\" , \"Cilt\": \"c\"}\n",
        "kelime = input(\"Sözlükte aramak istediğiniz kelimenin anahtarını giriniz: \")\n",
        "if kelime in kisaltmalar:\n",
        "   print( kelime  + \" Kısaltmalar sözlüğünde yer alıyor! :) \")"
      ]
    },
    {
      "cell_type": "code",
      "source": [
        "#sözlükte arama yapılması:\n",
        "kisaltmalar = {\"Anadolu Ajansı\": \"AA\" , \"Sıfat\": \"sf.\" , \"Albay\": \"Alb.\" , \"Almanca\": \"Alm.\" , \"Antropoloji\": \"ant.\" , \"Arkeoloji\": \"ark.\" , \"Avukat\" : \"Av.\" , \"Bağlaç\": \"bağ.\" , \"Bakınız\": \"bk.\" , \"Cilt\": \"c\"}\n",
        "kelime = input(\" Sözlükte aramak istediğiniz kelimenin anahtarını giriniz:\")\n",
        "print(kelime in kisaltmalar.keys())\n",
        "print(kelime + \" Kısaltmalar sözlüğünde yer alıyor! :) \")\n"
      ],
      "metadata": {
        "id": "s6FzmRtYYgOk"
      },
      "execution_count": null,
      "outputs": []
    }
  ],
  "metadata": {
    "colab": {
      "provenance": [],
      "authorship_tag": "ABX9TyNLfQpUOAREx2lcKbYcqZeT",
      "include_colab_link": true
    },
    "kernelspec": {
      "display_name": "Python 3",
      "name": "python3"
    },
    "language_info": {
      "name": "python"
    }
  },
  "nbformat": 4,
  "nbformat_minor": 0
}