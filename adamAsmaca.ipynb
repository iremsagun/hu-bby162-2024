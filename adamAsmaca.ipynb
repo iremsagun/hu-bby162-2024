{
  "nbformat": 4,
  "nbformat_minor": 0,
  "metadata": {
    "colab": {
      "provenance": [],
      "authorship_tag": "ABX9TyP5eKdL9EKGZITwHul+CiST",
      "include_colab_link": true
    },
    "kernelspec": {
      "name": "python3",
      "display_name": "Python 3"
    },
    "language_info": {
      "name": "python"
    }
  },
  "cells": [
    {
      "cell_type": "markdown",
      "metadata": {
        "id": "view-in-github",
        "colab_type": "text"
      },
      "source": [
        "<a href=\"https://colab.research.google.com/github/iremsagun/hu-bby162-2024/blob/main/adamAsmaca.ipynb\" target=\"_parent\"><img src=\"https://colab.research.google.com/assets/colab-badge.svg\" alt=\"Open In Colab\"/></a>"
      ]
    },
    {
      "cell_type": "code",
      "execution_count": null,
      "metadata": {
        "id": "cRMrTAOawaUU"
      },
      "outputs": [],
      "source": [
        "import random\n",
        "\n",
        "def seviye():\n",
        "  print(\"Bu bir adam asmaca oyunudur hoş geldiniz.\")\n",
        "  print(\"oyunu oynamak istediğiniz zorluk seviyesini seçiniz\")\n",
        "  print(\"Kolay seviye için 1'e basınız.\")\n",
        "  print(\"Orta seviye için 2'ye basınız\")\n",
        "  print(\"Zor seviye için 3'e basınız\")\n",
        "  seviyeSecimi = int(input())\n",
        "\n",
        "  if seviyeSecimi == 1:\n",
        "   adamCan = 7\n",
        "  elif seviyeSecimi == 2:\n",
        "    adamCan = 5\n",
        "  elif seviyeSecimi == 3:\n",
        "   adamCan = 3\n",
        "  else:\n",
        "    print(\"Hatalı giriş yaptınız. Lütfen k, o veya z' ye basınız\")\n",
        "  return adamCan\n",
        "\n",
        "def kelimeListesi():\n",
        "#Kelime Listesi\n",
        " kelimeler =[\"kalem\", \"kitap\", \"gözlük\", \"telefon\", \"anahtarlık\", \"cüzdan\", \"çanta\", \"şemsiye\", \"ayakkabı\", \"çiçek\"]\n",
        " return random.choice(kelimeler)\n",
        "\n",
        "def adamAsmaca():\n",
        "  adamCan = seviye()\n",
        "  secilenKelime = kelimeListesi()\n",
        "  #print(secilenKelime)\n",
        "  dizilenKelime = []\n",
        "  print(\"Seçtiğiniz seviyedeki can hakkınız:\" + str(adamCan))\n",
        "  for diz in secilenKelime:\n",
        "    dizilenKelime.append(\"_\")\n",
        "  print(dizilenKelime)\n",
        "\n",
        "  while adamCan > 0:\n",
        "    girilenHarf = print(\"Bir harf giriniz.\")\n",
        "    canKontrol= girilenHarf in secilenKelime\n",
        "    if canKontrol == False:\n",
        "      adamCan -= 1\n",
        "      print(\"Yanlış harf girdiniz. Kalan can.\" + str(adamCan))\n",
        "    i = 0\n",
        "    for kontrol in secilenKelime:\n",
        "      if secilenKelime[i] == girilenHarf:\n",
        "        dizilenKelime[i] = girilenHarf\n",
        "        i += 1\n",
        "    print(dizilenKelime)\n",
        "    print(\"Kalan can:\" + str(adamCan))\n",
        "\n",
        "adamAsmaca()\n",
        "\n"
      ]
    }
  ]
}