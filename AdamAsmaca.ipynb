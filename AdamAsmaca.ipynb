{
  "nbformat": 4,
  "nbformat_minor": 0,
  "metadata": {
    "colab": {
      "provenance": [],
      "authorship_tag": "ABX9TyPnIwjVBIsPBHlKzuKfPbJb",
      "include_colab_link": true
    },
    "kernelspec": {
      "name": "python3",
      "display_name": "Python 3"
    },
    "language_info": {
      "name": "python"
    }
  },
  "cells": [
    {
      "cell_type": "markdown",
      "metadata": {
        "id": "view-in-github",
        "colab_type": "text"
      },
      "source": [
        "<a href=\"https://colab.research.google.com/github/iremsagun/hu-bby162-2024/blob/main/AdamAsmaca.ipynb\" target=\"_parent\"><img src=\"https://colab.research.google.com/assets/colab-badge.svg\" alt=\"Open In Colab\"/></a>"
      ]
    },
    {
      "cell_type": "code",
      "execution_count": 3,
      "metadata": {
        "id": "cRMrTAOawaUU"
      },
      "outputs": [],
      "source": [
        "import random\n",
        "\n",
        "def seviye():\n",
        "  print(\"oyunu oynamak istediğiniz zorluk seviyesini seçiniz\")\n",
        "  print(\"Kolay seviye için k'ye basınız.\")\n",
        "  print(\"Orta seviye için o'ya basınız\")\n",
        "  print(\"Zor seviye için z'ye basınız\")\n",
        "  seviyeSecimi =int(input())\n",
        "\n",
        "  if seviyeSecimi == k:\n",
        "   adamCan = 7\n",
        "  elif seviyeSecimi == o:\n",
        "    adamCan = 5\n",
        "  elif seviyeSecimi == z:\n",
        "   adamCan = 3\n",
        "  else:\n",
        "    print(\"Hatalı giriş yaptınız. Lütfen k, o veya z' ye basınız\")\n",
        "  return adamCan\n"
      ]
    }
  ]
}