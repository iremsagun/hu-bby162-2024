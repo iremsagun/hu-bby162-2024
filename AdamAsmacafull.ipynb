{
  "nbformat": 4,
  "nbformat_minor": 0,
  "metadata": {
    "colab": {
      "provenance": [],
      "authorship_tag": "ABX9TyOcBqVzPcQbVGSqZPZ4XSK2",
      "include_colab_link": true
    },
    "kernelspec": {
      "name": "python3",
      "display_name": "Python 3"
    },
    "language_info": {
      "name": "python"
    }
  },
  "cells": [
    {
      "cell_type": "markdown",
      "metadata": {
        "id": "view-in-github",
        "colab_type": "text"
      },
      "source": [
        "<a href=\"https://colab.research.google.com/github/iremsagun/hu-bby162-2024/blob/main/AdamAsmacafull.ipynb\" target=\"_parent\"><img src=\"https://colab.research.google.com/assets/colab-badge.svg\" alt=\"Open In Colab\"/></a>"
      ]
    },
    {
      "cell_type": "code",
      "execution_count": null,
      "metadata": {
        "colab": {
          "base_uri": "https://localhost:8080/"
        },
        "id": "cRMrTAOawaUU",
        "outputId": "25693d2a-970b-49cf-da9f-a6ee4c214e5b"
      },
      "outputs": [
        {
          "name": "stdout",
          "output_type": "stream",
          "text": [
            "Bu bir adam asmaca oyunudur hoş geldiniz.\n",
            "oyunu oynamak istediğiniz zorluk seviyesini seçiniz\n",
            "Kolay seviye için 1'e basınız.\n",
            "Orta seviye için 2'ye basınız\n",
            "Zor seviye için 3'e basınız\n",
            "3\n",
            "Seçtiğiniz seviyedeki can hakkınız:3\n",
            "['_', '_', '_', '_', '_', '_', '_', '_', '_', '_']\n",
            "Bir harf giriniz.q\n",
            "Kelimede olmayan bir harf girdiniz. Kalan canınız:2\n",
            "['_', '_', '_', '_', '_', '_', '_', '_', '_', '_']\n",
            "Kalan canınız: 2\n",
            "Bir harf giriniz.w\n",
            "Kelimede olmayan bir harf girdiniz. Kalan canınız:1\n",
            "['_', '_', '_', '_', '_', '_', '_', '_', '_', '_']\n",
            "Kalan canınız: 1\n",
            "Bir harf giriniz.x\n",
            "Kelimede olmayan bir harf girdiniz. Kalan canınız:0\n",
            "['_', '_', '_', '_', '_', '_', '_', '_', '_', '_']\n",
            "Kalan canınız: 0\n",
            "Üzgünüm oyunu kaybettiniz. Kelime:anahtarlık\n",
            "Tekrar oynamak ister misiniz? (Cevabınız evet ise 'e' hayır ise 'h'.)h\n"
          ]
        }
      ],
      "source": [
        "import random\n",
        "\n",
        "def seviye():\n",
        "  print(\"Bu bir adam asmaca oyunudur hoş geldiniz.\")\n",
        "  print(\"oyunu oynamak istediğiniz zorluk seviyesini seçiniz\")\n",
        "  print(\"Kolay seviye için 1'e basınız.\")\n",
        "  print(\"Orta seviye için 2'ye basınız\")\n",
        "  print(\"Zor seviye için 3'e basınız\")\n",
        "  seviyeSecimi = int(input())\n",
        "\n",
        "  if seviyeSecimi == 1:\n",
        "   adamCan = 7\n",
        "  elif seviyeSecimi == 2:\n",
        "    adamCan = 5\n",
        "  elif seviyeSecimi == 3:\n",
        "   adamCan = 3\n",
        "  else:x\n",
        "    print(\"Hatalı giriş yaptınız. Lütfen k, o veya z' ye basınız\")\n",
        "  return adamCan\n",
        "\n",
        "def kelimeListesi():\n",
        "#Kelime Listesi\n",
        " kelimeler =[\"kalem\", \"kitap\", \"gözlük\", \"telefon\", \"anahtarlık\", \"cüzdan\", \"çanta\", \"şemsiye\", \"ayakkabı\", \"çiçek\"]\n",
        " return random.choice(kelimeler)\n",
        "\n",
        "def adamAsmaca():\n",
        "  adamCan = seviye()\n",
        "  secilenKelime = kelimeListesi()\n",
        "  #print(secilenKelime)\n",
        "  dizilenKelime = []\n",
        "  print(\"Seçtiğiniz seviyedeki can hakkınız:\" + str(adamCan))\n",
        "\n",
        "  for diz in secilenKelime:\n",
        "    dizilenKelime.append(\"_\")\n",
        "  print(dizilenKelime)\n",
        "\n",
        "  while adamCan > 0:\n",
        "    girilenHarf = input(\"Bir harf giriniz.\").lower()\n",
        "    canKontrol = girilenHarf in secilenKelime\n",
        "    if canKontrol == False:\n",
        "       adamCan -= 1\n",
        "       print(\"Kelimede olmayan bir harf girdiniz. Kalan canınız:\"+ str(adamCan))\n",
        "    i = 0\n",
        "    for kontrol in secilenKelime:\n",
        "      if secilenKelime[i] == girilenHarf:\n",
        "        dizilenKelime[i] = girilenHarf\n",
        "      i+=1\n",
        "    print(dizilenKelime)\n",
        "    print(\"Kalan canınız: \"+ str(adamCan))\n",
        "    if \"_\" not in dizilenKelime:\n",
        "      break\n",
        "\n",
        "  if adamCan == 0:\n",
        "     print(\"Üzgünüm oyunu kaybettiniz. Kelime:\" + secilenKelime)\n",
        "  else:\n",
        "      print(\"Tebrikler oyunu kazandınız.\")\n",
        "  if input(\"Tekrar oynamak ister misiniz? (Cevabınız evet ise 'e' hayır ise 'h'.)\").lower() == 'e':\n",
        "    adamAsmaca()\n",
        "\n",
        "adamAsmaca()\n",
        "\n",
        "\n",
        "\n",
        "\n",
        "\n"
      ]
    }
  ]
}