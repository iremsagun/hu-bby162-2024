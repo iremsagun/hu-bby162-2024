{
  "nbformat": 4,
  "nbformat_minor": 0,
  "metadata": {
    "colab": {
      "provenance": [],
      "authorship_tag": "ABX9TyPkDZyqLl2ylIQepL3SE15V",
      "include_colab_link": true
    },
    "kernelspec": {
      "name": "python3",
      "display_name": "Python 3"
    },
    "language_info": {
      "name": "python"
    }
  },
  "cells": [
    {
      "cell_type": "markdown",
      "metadata": {
        "id": "view-in-github",
        "colab_type": "text"
      },
      "source": [
        "<a href=\"https://colab.research.google.com/github/iremsagun/hu-bby162-2024/blob/main/Web%C3%96r%C3%BCmce%C4%9Fi.ipynb\" target=\"_parent\"><img src=\"https://colab.research.google.com/assets/colab-badge.svg\" alt=\"Open In Colab\"/></a>"
      ]
    },
    {
      "cell_type": "code",
      "source": [
        "pip install requests beautifulsoup4"
      ],
      "metadata": {
        "id": "WsHzB-GS-920"
      },
      "execution_count": null,
      "outputs": []
    },
    {
      "cell_type": "code",
      "source": [
        "import requests\n",
        "from bs4 import BeautifulSoup"
      ],
      "metadata": {
        "id": "Uw2g0ngLOd15"
      },
      "execution_count": 1,
      "outputs": []
    },
    {
      "cell_type": "code",
      "source": [
        "def get_user_input():\n",
        "    website = input(\"Lütfen bir web sitesi adresi girin (örneğin: https://example.com): \")\n",
        "    depth = int(input(\"Lütfen tarama derinliğini girin (örneğin: 2): \"))\n",
        "    return website, depth\n",
        "\n",
        "visited_urls = set() #Ziyaret edilenleri saklamak için"
      ],
      "metadata": {
        "id": "V0_Jvu8FOFZQ"
      },
      "execution_count": 3,
      "outputs": []
    },
    {
      "cell_type": "code",
      "source": [
        "import requests\n",
        "link = input((\"Lütfen bir web sitesi adresi girin: örneğin https://www.example.tr/\"))"
      ],
      "metadata": {
        "id": "D3EvYFvkOFef",
        "colab": {
          "base_uri": "https://localhost:8080/"
        },
        "outputId": "6d95649d-16b8-409c-fabf-edd6f6bffe4c"
      },
      "execution_count": 8,
      "outputs": [
        {
          "name": "stdout",
          "output_type": "stream",
          "text": [
            "Lütfen bir web sitesi adresi girin: örneğin https://www.example.tr/https://www.hacettepe.edu.tr/\n"
          ]
        }
      ]
    },
    {
      "cell_type": "code",
      "source": [],
      "metadata": {
        "id": "9lDgNF4rOF3j"
      },
      "execution_count": null,
      "outputs": []
    }
  ]
}